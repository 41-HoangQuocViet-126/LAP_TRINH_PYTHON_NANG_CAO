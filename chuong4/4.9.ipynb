{
 "cells": [
  {
   "cell_type": "code",
   "execution_count": 3,
   "metadata": {},
   "outputs": [],
   "source": [
    "import pandas as pd\n",
    "import numpy as np\n",
    "ser = pd.Series(np.random.randint(1,10,35))"
   ]
  },
  {
   "cell_type": "code",
   "execution_count": 4,
   "metadata": {},
   "outputs": [
    {
     "data": {
      "text/plain": [
       "'Mã lệnh trên có ý nghĩa là:\\nnp.random.randint(1,10,35) trả về 1 mảng số nguyên ngẫu nhiên có giá trị min là 1, giá trị max là 10 với kích cỡ 35 phần tử\\nsau đó ta dùng pd.Series để tạo 1 chuỗi pandas từ mảng số ngẫu nhiên ở trên\\n'"
      ]
     },
     "execution_count": 4,
     "metadata": {},
     "output_type": "execute_result"
    }
   ],
   "source": [
    "'''Mã lệnh trên có ý nghĩa là:\n",
    "np.random.randint(1,10,35) trả về 1 mảng số nguyên ngẫu nhiên có giá trị min là 1, giá trị max là 10 với kích cỡ 35 phần tử\n",
    "sau đó ta dùng pd.Series để tạo 1 chuỗi pandas từ mảng số ngẫu nhiên ở trên\n",
    "'''"
   ]
  },
  {
   "cell_type": "code",
   "execution_count": 5,
   "metadata": {},
   "outputs": [
    {
     "name": "stdout",
     "output_type": "stream",
     "text": [
      "[[3 4 7 5 7]\n",
      " [4 6 1 5 8]\n",
      " [2 1 9 6 7]\n",
      " [9 6 1 2 1]\n",
      " [6 9 8 4 1]\n",
      " [4 2 2 3 3]\n",
      " [9 1 8 1 7]] \n",
      "đã định hình có 7 hàng 5 cột\n"
     ]
    }
   ],
   "source": [
    "arr = ser.values  # chuyển đối tượng series thành array\n",
    "new_ser = arr.reshape((7,5))\n",
    "print(new_ser, \"\\nđã định hình có 7 hàng 5 cột\")"
   ]
  }
 ],
 "metadata": {
  "kernelspec": {
   "display_name": "Python 3",
   "language": "python",
   "name": "python3"
  },
  "language_info": {
   "codemirror_mode": {
    "name": "ipython",
    "version": 3
   },
   "file_extension": ".py",
   "mimetype": "text/x-python",
   "name": "python",
   "nbconvert_exporter": "python",
   "pygments_lexer": "ipython3",
   "version": "3.12.0"
  }
 },
 "nbformat": 4,
 "nbformat_minor": 2
}
