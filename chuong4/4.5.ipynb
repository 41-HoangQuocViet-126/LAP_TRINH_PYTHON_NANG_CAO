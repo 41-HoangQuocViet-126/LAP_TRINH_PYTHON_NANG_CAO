{
 "cells": [
  {
   "cell_type": "code",
   "execution_count": 3,
   "metadata": {},
   "outputs": [],
   "source": [
    "import pandas as pd\n",
    "import numpy as np\n",
    "ser = pd.Series(np.random.normal(10,5,25))"
   ]
  },
  {
   "cell_type": "code",
   "execution_count": 4,
   "metadata": {},
   "outputs": [
    {
     "name": "stdout",
     "output_type": "stream",
     "text": [
      "3.327550186130699 là giá trị min của ser\n"
     ]
    }
   ],
   "source": [
    "print(ser.min(), \"là giá trị min của ser\")"
   ]
  },
  {
   "cell_type": "code",
   "execution_count": 5,
   "metadata": {},
   "outputs": [
    {
     "name": "stdout",
     "output_type": "stream",
     "text": [
      "8.280341934886899 là phần centil thứ 25 của ser\n"
     ]
    }
   ],
   "source": [
    "print(np.percentile(ser,25), \"là phần centil thứ 25 của ser\" )"
   ]
  },
  {
   "cell_type": "code",
   "execution_count": 6,
   "metadata": {},
   "outputs": [
    {
     "name": "stdout",
     "output_type": "stream",
     "text": [
      "11.63120385979701 là trung vị của ser\n"
     ]
    }
   ],
   "source": [
    "print(ser.median(), \"là trung vị của ser\")"
   ]
  },
  {
   "cell_type": "code",
   "execution_count": 7,
   "metadata": {},
   "outputs": [
    {
     "name": "stdout",
     "output_type": "stream",
     "text": [
      "14.470812186256246 là phần centil thứ 75 của ser\n"
     ]
    }
   ],
   "source": [
    "print(np.percentile(ser,75), \"là phần centil thứ 75 của ser\" )"
   ]
  },
  {
   "cell_type": "code",
   "execution_count": 8,
   "metadata": {},
   "outputs": [
    {
     "name": "stdout",
     "output_type": "stream",
     "text": [
      "20.684769502361934 là giá trị max của ser\n"
     ]
    }
   ],
   "source": [
    "print(ser.max(), \"là giá trị max của ser\")"
   ]
  }
 ],
 "metadata": {
  "kernelspec": {
   "display_name": "Python 3",
   "language": "python",
   "name": "python3"
  },
  "language_info": {
   "codemirror_mode": {
    "name": "ipython",
    "version": 3
   },
   "file_extension": ".py",
   "mimetype": "text/x-python",
   "name": "python",
   "nbconvert_exporter": "python",
   "pygments_lexer": "ipython3",
   "version": "3.12.0"
  }
 },
 "nbformat": 4,
 "nbformat_minor": 2
}
