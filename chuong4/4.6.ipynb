{
 "cells": [
  {
   "cell_type": "code",
   "execution_count": 2,
   "metadata": {},
   "outputs": [],
   "source": [
    "import pandas as pd\n",
    "import numpy as np\n",
    "ser = pd.Series(np.take(list('abcdefgh'),np.random.randint(8,size=30)))"
   ]
  },
  {
   "cell_type": "code",
   "execution_count": 3,
   "metadata": {},
   "outputs": [
    {
     "data": {
      "text/plain": [
       "'Đoạn code có ý nghĩa là:\\nnp.take trả các phần tử từ mảng theo trục dọc và chỉ mục mình đề ra\\nnp.random.randint trả về 1 mảng có kích cỡ quy định và lấp đầy mảng bằng các số nguyên ngẫu nhiên \\nVậy đoạn code trên có ý nghĩa là chúng ta lấy 1 danh sách gồm các kí tự thuộc kiểu dữ liệu chuỗi \\nvà tạo ngẫu nhiên số nguyên tương ứng với 8 kí tự kiểu chuỗi với độ dài 30 \\nsau đó ta kết nối danh sách kí tự và các số ngẫu nhiên kia vào chung 1 pandas series \\n'"
      ]
     },
     "execution_count": 3,
     "metadata": {},
     "output_type": "execute_result"
    }
   ],
   "source": [
    "'''Đoạn code có ý nghĩa là:\n",
    "np.take trả các phần tử từ mảng theo trục dọc và chỉ mục mình đề ra\n",
    "np.random.randint trả về 1 mảng có kích cỡ quy định và lấp đầy mảng bằng các số nguyên ngẫu nhiên \n",
    "Vậy đoạn code trên có ý nghĩa là chúng ta lấy 1 danh sách gồm các kí tự thuộc kiểu dữ liệu chuỗi \n",
    "và tạo ngẫu nhiên số nguyên tương ứng với 8 kí tự kiểu chuỗi với độ dài 30 \n",
    "sau đó ta kết nối danh sách kí tự và các số ngẫu nhiên kia vào chung 1 pandas series \n",
    "'''"
   ]
  },
  {
   "cell_type": "code",
   "execution_count": 4,
   "metadata": {},
   "outputs": [
    {
     "name": "stdout",
     "output_type": "stream",
     "text": [
      "0 là số lần xuất hiện của kí tự a trong ser\n",
      "7 là số lần xuất hiện của kí tự b trong ser\n",
      "4 là số lần xuất hiện của kí tự c trong ser\n",
      "5 là số lần xuất hiện của kí tự d trong ser\n",
      "1 là số lần xuất hiện của kí tự e trong ser\n",
      "1 là số lần xuất hiện của kí tự f trong ser\n",
      "4 là số lần xuất hiện của kí tự g trong ser\n",
      "8 là số lần xuất hiện của kí tự h trong ser\n"
     ]
    }
   ],
   "source": [
    "ser = list(ser)\n",
    "print(ser.count('a'), \"là số lần xuất hiện của kí tự a trong ser\")\n",
    "print(ser.count('b'), \"là số lần xuất hiện của kí tự b trong ser\")\n",
    "print(ser.count('c'), \"là số lần xuất hiện của kí tự c trong ser\")\n",
    "print(ser.count('d'), \"là số lần xuất hiện của kí tự d trong ser\")\n",
    "print(ser.count('e'), \"là số lần xuất hiện của kí tự e trong ser\")\n",
    "print(ser.count('f'), \"là số lần xuất hiện của kí tự f trong ser\")\n",
    "print(ser.count('g'), \"là số lần xuất hiện của kí tự g trong ser\")\n",
    "print(ser.count('h'), \"là số lần xuất hiện của kí tự h trong ser\")"
   ]
  }
 ],
 "metadata": {
  "kernelspec": {
   "display_name": "Python 3",
   "language": "python",
   "name": "python3"
  },
  "language_info": {
   "codemirror_mode": {
    "name": "ipython",
    "version": 3
   },
   "file_extension": ".py",
   "mimetype": "text/x-python",
   "name": "python",
   "nbconvert_exporter": "python",
   "pygments_lexer": "ipython3",
   "version": "3.12.0"
  }
 },
 "nbformat": 4,
 "nbformat_minor": 2
}
