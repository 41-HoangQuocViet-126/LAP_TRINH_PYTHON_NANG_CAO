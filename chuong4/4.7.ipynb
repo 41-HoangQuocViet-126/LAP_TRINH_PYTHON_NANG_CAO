{
 "cells": [
  {
   "cell_type": "code",
   "execution_count": 2,
   "metadata": {},
   "outputs": [
    {
     "name": "stdout",
     "output_type": "stream",
     "text": [
      "0     4\n",
      "1     1\n",
      "2     4\n",
      "3     2\n",
      "4     1\n",
      "5     3\n",
      "6     1\n",
      "7     2\n",
      "8     3\n",
      "9     3\n",
      "10    3\n",
      "11    2\n",
      "dtype: int32\n"
     ]
    }
   ],
   "source": [
    "import numpy as np\n",
    "import pandas as pd\n",
    "np.random.RandomState(100)\n",
    "ser = pd.Series(np.random.randint(1,5,[12]))\n",
    "print(ser)"
   ]
  },
  {
   "cell_type": "code",
   "execution_count": 3,
   "metadata": {},
   "outputs": [
    {
     "name": "stdout",
     "output_type": "stream",
     "text": [
      "0     Other\n",
      "1         1\n",
      "2     Other\n",
      "3         2\n",
      "4         1\n",
      "5     Other\n",
      "6         1\n",
      "7         2\n",
      "8     Other\n",
      "9     Other\n",
      "10    Other\n",
      "11        2\n",
      "dtype: object là series giữ nguyên 2 phần tử tần suất max và thay đổi giá trị các phần tử còn lại\n"
     ]
    }
   ],
   "source": [
    "new_ser = ser.replace(to_replace=[3,4],value='Other')\n",
    "print(new_ser, \"là series giữ nguyên 2 phần tử tần suất max và thay đổi giá trị các phần tử còn lại\")"
   ]
  }
 ],
 "metadata": {
  "kernelspec": {
   "display_name": "Python 3",
   "language": "python",
   "name": "python3"
  },
  "language_info": {
   "codemirror_mode": {
    "name": "ipython",
    "version": 3
   },
   "file_extension": ".py",
   "mimetype": "text/x-python",
   "name": "python",
   "nbconvert_exporter": "python",
   "pygments_lexer": "ipython3",
   "version": "3.12.0"
  }
 },
 "nbformat": 4,
 "nbformat_minor": 2
}
