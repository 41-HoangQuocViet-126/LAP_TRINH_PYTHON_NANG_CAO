{
 "cells": [
  {
   "cell_type": "code",
   "execution_count": 2,
   "metadata": {},
   "outputs": [
    {
     "name": "stdout",
     "output_type": "stream",
     "text": [
      "0     0.842708\n",
      "1     0.875361\n",
      "2     0.240076\n",
      "3     0.542195\n",
      "4     0.622265\n",
      "5     0.643580\n",
      "6     0.137592\n",
      "7     0.977532\n",
      "8     0.995860\n",
      "9     0.805556\n",
      "10    0.252485\n",
      "11    0.185800\n",
      "12    0.579541\n",
      "13    0.013908\n",
      "14    0.408742\n",
      "15    0.235647\n",
      "16    0.818232\n",
      "17    0.524156\n",
      "18    0.328082\n",
      "19    0.546850\n",
      "dtype: float64\n"
     ]
    }
   ],
   "source": [
    "import pandas as pd\n",
    "import numpy as np\n",
    "ser = pd.Series(np.random.random(20))\n",
    "print(ser)"
   ]
  },
  {
   "cell_type": "code",
   "execution_count": 3,
   "metadata": {},
   "outputs": [
    {
     "name": "stdout",
     "output_type": "stream",
     "text": [
      "     Giá trị  Phân vị\n",
      "0   0.842708        8\n",
      "1   0.875361        8\n",
      "2   0.240076        2\n",
      "3   0.542195        4\n",
      "4   0.622265        6\n",
      "5   0.643580        6\n",
      "6   0.137592        0\n",
      "7   0.977532        9\n",
      "8   0.995860        9\n",
      "9   0.805556        7\n",
      "10  0.252485        2\n",
      "11  0.185800        1\n",
      "12  0.579541        5\n",
      "13  0.013908        0\n",
      "14  0.408742        3\n",
      "15  0.235647        1\n",
      "16  0.818232        7\n",
      "17  0.524156        4\n",
      "18  0.328082        3\n",
      "19  0.546850        5 \n",
      "đã chia chuỗi thành 10 phân vị = nhau\n"
     ]
    }
   ],
   "source": [
    "df = pd.DataFrame(ser,columns=['Giá trị'])\n",
    "df['Phân vị'] = pd.qcut(df['Giá trị'],q=10,labels=False)\n",
    "print(df, \"\\nđã chia chuỗi thành 10 phân vị = nhau\")"
   ]
  }
 ],
 "metadata": {
  "kernelspec": {
   "display_name": "Python 3",
   "language": "python",
   "name": "python3"
  },
  "language_info": {
   "codemirror_mode": {
    "name": "ipython",
    "version": 3
   },
   "file_extension": ".py",
   "mimetype": "text/x-python",
   "name": "python",
   "nbconvert_exporter": "python",
   "pygments_lexer": "ipython3",
   "version": "3.12.0"
  }
 },
 "nbformat": 4,
 "nbformat_minor": 2
}
