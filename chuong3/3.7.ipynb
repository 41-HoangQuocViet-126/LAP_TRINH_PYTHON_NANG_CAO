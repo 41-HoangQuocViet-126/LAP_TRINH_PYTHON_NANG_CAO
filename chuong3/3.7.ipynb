{
 "cells": [
  {
   "cell_type": "code",
   "execution_count": 4,
   "metadata": {},
   "outputs": [
    {
     "name": "stdout",
     "output_type": "stream",
     "text": [
      "Kiểu dữ liệu của np_baseball là:  <U5\n",
      "Kích thước của np_baseball là:  (126, 2)\n",
      "Dòng thứ 50 của np_baseball gồm:  ['[75' ' 219]']\n",
      "[' 206]' ' 135]' ' 208]' ' 237]' ' 228]' ' 127]' ' 129]' ' 129]' ' 244]'\n",
      " ' 244]' ' 179]' ' 134]' ' 208]' ' 235]' ' 129]' ' 127]' ' 137]' ' 232]'\n",
      " ' 169]' ' 169]' ' 202]' ' 126]' ' 127]' ' 163]' ' 206]' ' 246]' ' 242]'\n",
      " ' 181]' ' 206]' ' 199]' ' 130]' ' 250]' ' 203]' ' 170]' ' 127]' ' 197]'\n",
      " ' 198]' ' 138]' ' 170]' ' 229]' ' 127]' ' 147]' ' 214]' ' 249]' ' 222]'\n",
      " ' 199]' ' 229]' ' 193]' ' 147]' ' 219]' ' 235]' ' 201]' ' 224]' ' 120]'\n",
      " ' 234]' ' 183]' ' 131]' ' 161]' ' 168]' ' 127]' ' 120]' ' 160]' ' 159]'\n",
      " ' 225]' ' 162]' ' 207]' ' 142]' ' 120]' ' 198]' ' 171]' ' 159]' ' 223]'\n",
      " ' 227]' ' 126]' ' 167]' ' 212]' ' 217]' ' 194]' ' 233]' ' 131]' ' 216]'\n",
      " ' 239]' ' 165]' ' 203]' ' 235]' ' 217]' ' 164]' ' 128]' ' 202]' ' 206]'\n",
      " ' 134]' ' 184]' ' 184]' ' 152]' ' 222]' ' 123]' ' 138]' ' 198]' ' 146]'\n",
      " ' 155]' ' 172]' ' 221]' ' 137]' ' 163]' ' 208]' ' 151]' ' 162]' ' 170]'\n",
      " ' 206]' ' 136]' ' 123]' ' 133]' ' 179]' ' 199]' ' 211]' ' 223]' ' 247]'\n",
      " ' 131]' ' 208]' ' 141]' ' 219]' ' 172]' ' 131]' ' 164]' ' 134]' ' 245]'] là numpy array với dữ liệu lấy từ cột hai của np_baseball\n",
      "[60 là chiều cao của vđv số 124\n",
      "142.0 là trung bình chiều cao cầu thủ\n",
      "180.9206349206349 là cân nặng trung bình cầu thủ\n",
      "Có tương quan nghịch giữa chiều cao và cân nặng\n"
     ]
    }
   ],
   "source": [
    "import numpy as np\n",
    "baseball = []\n",
    "with open(\"baseball_2D.txt\", \"r\") as f:\n",
    "    for dong in f:\n",
    "        cot = dong.strip().split(\",\")\n",
    "        baseball.append(cot)\n",
    "\n",
    "# ý 1\n",
    "np_baseball = np.array(baseball)\n",
    "print(\"Kiểu dữ liệu của np_baseball là: \", np_baseball.dtype)\n",
    "print(\"Kích thước của np_baseball là: \", np_baseball.shape)\n",
    "\n",
    "# ý 2\n",
    "dong_50 = np_baseball[49] \n",
    "print(\"Dòng thứ 50 của np_baseball gồm: \", dong_50)\n",
    "\n",
    "# ý 3\n",
    "np_weight = np_baseball[:,1]\n",
    "print(np_weight, \"là numpy array với dữ liệu lấy từ cột hai của np_baseball\")\n",
    "\n",
    "# ý 4\n",
    "print(np_baseball[123,0], \"là chiều cao của vđv số 124\")\n",
    "\n",
    "# ý 5\n",
    "with open('baseball_2D.txt', 'r') as file:\n",
    "    data = []\n",
    "    for line in file:\n",
    "        clean_line = line.strip().replace('[','').replace(']','')\n",
    "        row = list(map(float, clean_line.split(',')))\n",
    "        data.append(row)\n",
    "    \n",
    "np_baseball = np.array(data)\n",
    "height_mean = np.mean(np_baseball[0,:])\n",
    "weight_mean = np.mean(np_baseball[:,1])\n",
    "print(height_mean, \"là trung bình chiều cao cầu thủ\")\n",
    "print(weight_mean, \"là cân nặng trung bình cầu thủ\")\n",
    "\n",
    "# ý 6\n",
    "corr_coef = np.corrcoef(np_baseball[:,0],np_baseball[:,1])[0,1]\n",
    "if corr_coef >0:\n",
    "    print(\"Có tương quan thuận giữa chiều cao và cân nặng\")\n",
    "elif corr_coef <0:\n",
    "    print(\"Có tương quan nghịch giữa chiều cao và cân nặng\")\n",
    "else:\n",
    "    print(\"Không có tương quan giữa chiều cao và cân nặng\")"
   ]
  }
 ],
 "metadata": {
  "kernelspec": {
   "display_name": "Python 3",
   "language": "python",
   "name": "python3"
  },
  "language_info": {
   "codemirror_mode": {
    "name": "ipython",
    "version": 3
   },
   "file_extension": ".py",
   "mimetype": "text/x-python",
   "name": "python",
   "nbconvert_exporter": "python",
   "pygments_lexer": "ipython3",
   "version": "3.12.0"
  }
 },
 "nbformat": 4,
 "nbformat_minor": 2
}
