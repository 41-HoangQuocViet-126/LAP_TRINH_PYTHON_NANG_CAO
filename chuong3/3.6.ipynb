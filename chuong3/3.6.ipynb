{
 "cells": [
  {
   "cell_type": "code",
   "execution_count": 1,
   "metadata": {},
   "outputs": [
    {
     "name": "stdout",
     "output_type": "stream",
     "text": [
      "[[0 1 2]\n",
      " [3 4 5]\n",
      " [6 7 8]] là định dạng 3x3 cho arr_1D\n",
      "[[2 1 0]\n",
      " [5 4 3]\n",
      " [8 7 6]] là định dạng chuyển cột 1 sang cột 3 và ngược lại\n",
      "[[5 4 3]\n",
      " [2 1 0]\n",
      " [8 7 6]] là định dạng chuyển dòng 1 sang dòng 2 và ngược lại\n",
      "[[3 4 5]\n",
      " [0 1 2]\n",
      " [6 7 8]] là arr 2D đã đảo ngược các dòng\n",
      "[[6 7 8]\n",
      " [0 1 2]\n",
      " [3 4 5]] là arr 2D đã đảo ngược theo cột\n",
      "[[1. 2. 3.]\n",
      " [0. 5. 6.]\n",
      " [7. 0. 9.]\n",
      " [4. 5. 6.]] là arr 2D null với các giá trị rỗng thay = số 0\n"
     ]
    }
   ],
   "source": [
    "#1\n",
    "import numpy as np\n",
    "arr = np.array([[True,True,True],\n",
    "               [True,True,True],\n",
    "               [True,True,True]])\n",
    "\n",
    "#2\n",
    "arr_1D = np.array([0,1,2,3,4,5,6,7,8])\n",
    "arr_2D = np.reshape(arr_1D, (3,3))\n",
    "print(arr_2D, \"là định dạng 3x3 cho arr_1D\")\n",
    "hoan_doi = arr_2D[:,2].copy()\n",
    "arr_2D[:,2] = arr_2D[:,0]\n",
    "arr_2D[:,0] = hoan_doi\n",
    "print(arr_2D, \"là định dạng chuyển cột 1 sang cột 3 và ngược lại\")\n",
    "\n",
    "#3\n",
    "hoan_doi_2 = arr_2D[0,:].copy()\n",
    "arr_2D[0,:] = arr_2D[1,:]\n",
    "arr_2D[1,:] = hoan_doi_2\n",
    "print(arr_2D, \"là định dạng chuyển dòng 1 sang dòng 2 và ngược lại\")\n",
    "\n",
    "#4\n",
    "arr_2D = np.flip(arr_2D, axis=1)\n",
    "print(arr_2D, \"là arr 2D đã đảo ngược các dòng\")\n",
    "\n",
    "#5\n",
    "arr_2D = np.flip(arr_2D, axis=0)\n",
    "print(arr_2D, \"là arr 2D đã đảo ngược theo cột\")\n",
    "\n",
    "#6\n",
    "arr_2D_null = np.array([[1,2,3],[np.nan,5,6],[7,np.nan,9],[4,5,6]])\n",
    "np.isnan(arr_2D_null)    # trả về true nếu có giá trị rỗng \n",
    "\n",
    "#7\n",
    "arr_2D_null[np.isnan(arr_2D_null)] = 0\n",
    "print(arr_2D_null, \"là arr 2D null với các giá trị rỗng thay = số 0\")"
   ]
  }
 ],
 "metadata": {
  "kernelspec": {
   "display_name": "Python 3",
   "language": "python",
   "name": "python3"
  },
  "language_info": {
   "codemirror_mode": {
    "name": "ipython",
    "version": 3
   },
   "file_extension": ".py",
   "mimetype": "text/x-python",
   "name": "python",
   "nbconvert_exporter": "python",
   "pygments_lexer": "ipython3",
   "version": "3.12.0"
  }
 },
 "nbformat": 4,
 "nbformat_minor": 2
}
