{
 "cells": [
  {
   "cell_type": "code",
   "execution_count": 1,
   "metadata": {},
   "outputs": [
    {
     "name": "stdout",
     "output_type": "stream",
     "text": [
      "<U2 là kiểu dữ liệu của np_positions\n",
      "float64 là kiểu dữ liệu của np_heights\n",
      "180.19333333333336 là chiều cao trung bình của các gk\n",
      "179.80931506849313 là chiều cao của các vị trí khác gk\n",
      "[('GK', 199. ) ('D', 194.5) ('M', 180.2) ('A', 185.5)] là mảng dữ liệu cấu trúc tự định nghĩa U5 với positions và float với heights\n",
      "0 là vị trí chiều cao max\n",
      "2 là vị trí chiều cao min\n"
     ]
    }
   ],
   "source": [
    "import numpy as np\n",
    "heights = []\n",
    "positions = []\n",
    "with open('heights.txt','r') as file:\n",
    "    for line in file:\n",
    "        heights.append(float(line.strip()))\n",
    "with open('positions.txt','r') as file:\n",
    "    for line in file:\n",
    "        positions.append(line.strip())\n",
    "\n",
    "#1a\n",
    "np_positions = np.array(positions)\n",
    "print(np_positions.dtype, \"là kiểu dữ liệu của np_positions\")\n",
    "\n",
    "#1b\n",
    "np_heights = np.array(heights)\n",
    "print(np_heights.dtype, \"là kiểu dữ liệu của np_heights\")\n",
    "\n",
    "#2\n",
    "chieu_cao_tb_gk = np_heights[np_positions == \"GK\"]\n",
    "print(np.mean(chieu_cao_tb_gk), \"là chiều cao trung bình của các gk\")\n",
    "\n",
    "#3\n",
    "vi_tri_khac_tb = np_heights[np_positions != \"GK\"] \n",
    "print(np.mean(vi_tri_khac_tb), \"là chiều cao của các vị trí khác gk\")\n",
    "\n",
    "#4\n",
    "cau_truc = np.dtype([('positions', 'U5'),('heights', 'f4')])\n",
    "players = np.array([\n",
    "    ('GK',199.0),\n",
    "    ('D',194.5),\n",
    "    ('M',180.2),\n",
    "    ('A',185.5)\n",
    "],dtype = cau_truc)\n",
    "print(players, \"là mảng dữ liệu cấu trúc tự định nghĩa U5 với positions và float với heights\")\n",
    "\n",
    "#5\n",
    "sap_xep = np.sort(players,order=\"heights\")\n",
    "print(np.argmax(players[\"heights\"]), \"là vị trí chiều cao max\")\n",
    "print(np.argmin(players[\"heights\"]), \"là vị trí chiều cao min\")"
   ]
  }
 ],
 "metadata": {
  "kernelspec": {
   "display_name": "Python 3",
   "language": "python",
   "name": "python3"
  },
  "language_info": {
   "codemirror_mode": {
    "name": "ipython",
    "version": 3
   },
   "file_extension": ".py",
   "mimetype": "text/x-python",
   "name": "python",
   "nbconvert_exporter": "python",
   "pygments_lexer": "ipython3",
   "version": "3.12.0"
  }
 },
 "nbformat": 4,
 "nbformat_minor": 2
}
