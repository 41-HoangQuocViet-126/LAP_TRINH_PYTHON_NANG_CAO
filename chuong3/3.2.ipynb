{
 "cells": [
  {
   "cell_type": "code",
   "execution_count": 1,
   "metadata": {},
   "outputs": [
    {
     "name": "stdout",
     "output_type": "stream",
     "text": [
      "[0 1 2 3 4 5 6 7 8 9]\n",
      "int64\n",
      "(10,)\n",
      "[0 2 4 6 8] là array gồm phần tử chẵn\n",
      "[1 3 5 7 9] là array gồm phần tử lẻ\n",
      "[  0 100   2 100   4 100   6 100   8 100] là array được cập nhật từ array ban đầu\n"
     ]
    }
   ],
   "source": [
    "# khởi tạo array có giá trị từ 0-9\n",
    "import numpy as np\n",
    "arr = np.arange(10)\n",
    "\n",
    "# hiển thị các phần tử trong array\n",
    "print(arr)\n",
    "\n",
    "# xem kiểu dữ liệu\n",
    "print(arr.dtype)\n",
    "\n",
    "# kích thước\n",
    "print(arr.shape)\n",
    "\n",
    "arr_even = arr[0:10:2]\n",
    "print(arr_even, \"là array gồm phần tử chẵn\")\n",
    "arr_odd = arr[1:10:2]\n",
    "print(arr_odd, \"là array gồm phần tử lẻ\")\n",
    "\n",
    "arr[1:10:2] = 100\n",
    "arr_update_1 = arr\n",
    "print(arr_update_1, \"là array được cập nhật từ array ban đầu\")"
   ]
  }
 ],
 "metadata": {
  "kernelspec": {
   "display_name": "Python 3",
   "language": "python",
   "name": "python3"
  },
  "language_info": {
   "codemirror_mode": {
    "name": "ipython",
    "version": 3
   },
   "file_extension": ".py",
   "mimetype": "text/x-python",
   "name": "python",
   "nbconvert_exporter": "python",
   "pygments_lexer": "ipython3",
   "version": "3.12.0"
  }
 },
 "nbformat": 4,
 "nbformat_minor": 2
}
