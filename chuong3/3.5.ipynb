{
 "cells": [
  {
   "cell_type": "code",
   "execution_count": 9,
   "metadata": {},
   "outputs": [
    {
     "name": "stdout",
     "output_type": "stream",
     "text": [
      "Giá trị cân nặng tại index=50 là:  92.079176\n",
      "[17.01535782 20.05228058 20.0842081  18.02741041 19.52969461 18.25853106\n",
      " 16.67268273 17.01535782 19.65723548 18.02741041 15.83191607 14.4450404\n",
      " 20.15883472 16.06288492 16.48281192 17.21801648 17.21848815 20.61554689\n",
      " 17.4496088  20.43294299 18.17346582 13.40225293 16.78533599 18.62351678\n",
      " 18.62353842 15.8841099  20.58149089 19.22454314] là các cầu thủ bóng chày có bmi <21\n",
      "1.7869243243243247 là chiều cao trung bình\n",
      "80.96412879279279 là cân nặng trung bình\n",
      "80.0 là chiều cao cao nhất của các cầu thủ\n",
      "250.0 là cân nặng lớn nhất của các cầu thủ\n",
      "60.0 là chiều cao thấp nhất của các cầu thủ\n",
      "120.0 là cân nặng thấp nhất của các cầu thủ\n"
     ]
    }
   ],
   "source": [
    "import numpy as np\n",
    "with open('heights_1.txt','r') as f:\n",
    "    height = [float(line.strip()) for line in f.readlines()]\n",
    "with open('weights_1.txt','r') as f:\n",
    "    weight = [float(line.strip()) for line in f.readlines()]\n",
    "\n",
    "#1\n",
    "arr_height = np.array(height)\n",
    "\n",
    "#2\n",
    "arr_weight = np.array(weight)\n",
    "\n",
    "#3\n",
    "arr_height_m = arr_height * 0.0254\n",
    "\n",
    "#4\n",
    "arr_weight_kg = arr_weight * 0.453592\n",
    "\n",
    "#5\n",
    "arr_bmi = arr_weight_kg / (arr_height_m * arr_height_m)\n",
    "\n",
    "#6\n",
    "print(\"Giá trị cân nặng tại index=50 là: \",arr_weight_kg[50])\n",
    "\n",
    "#7\n",
    "arr_height_m_100 = arr_height_m[100:111]\n",
    "\n",
    "#8\n",
    "print(arr_bmi[arr_bmi <21], \"là các cầu thủ bóng chày có bmi <21\")\n",
    "\n",
    "#9\n",
    "chieu_cao_tb = np.mean(arr_height_m)\n",
    "can_nang_tb = np.mean(arr_weight_kg)\n",
    "print(chieu_cao_tb, \"là chiều cao trung bình\")\n",
    "print(can_nang_tb, \"là cân nặng trung bình\")\n",
    "\n",
    "#10\n",
    "chieu_cao_max = np.max(arr_height)\n",
    "can_nang_max = np.max(arr_weight)\n",
    "print(chieu_cao_max, \"là chiều cao cao nhất của các cầu thủ\")\n",
    "print(can_nang_max, \"là cân nặng lớn nhất của các cầu thủ\")\n",
    "\n",
    "#11\n",
    "chieu_cao_min = np.min(arr_height)\n",
    "can_nang_min = np.min(arr_weight)\n",
    "print(chieu_cao_min, \"là chiều cao thấp nhất của các cầu thủ\")\n",
    "print(can_nang_min, \"là cân nặng thấp nhất của các cầu thủ\")"
   ]
  }
 ],
 "metadata": {
  "kernelspec": {
   "display_name": "Python 3",
   "language": "python",
   "name": "python3"
  },
  "language_info": {
   "codemirror_mode": {
    "name": "ipython",
    "version": 3
   },
   "file_extension": ".py",
   "mimetype": "text/x-python",
   "name": "python",
   "nbconvert_exporter": "python",
   "pygments_lexer": "ipython3",
   "version": "3.12.0"
  }
 },
 "nbformat": 4,
 "nbformat_minor": 2
}
