{
 "cells": [
  {
   "cell_type": "code",
   "execution_count": 1,
   "metadata": {},
   "outputs": [
    {
     "name": "stdout",
     "output_type": "stream",
     "text": [
      "[0 0 0 0 0 1 0 0 0 0] là array đã cập nhật phần tử vị trí thứ 5 từ arr_zeros\n",
      "[24 23 22 21 20 19 18 17 16 15 14 13 12 11 10] là array đảo ngược của arr_h\n",
      "[1 2 8 2 1 3 5] là array với các phần tử của arr_k khác 0\n",
      "[ 1  2  8  2  1  3  5 10 20] là array_l với phần tử mới được thêm vào cuối array\n",
      "[  1   2   8   2   1 100   5  10  20] là array_l với phần tử vị trí 5 có giá trị 100\n",
      "[  2   8   1 100   5  10  20] là array_l đã xóa các phần tử vị trí 0,1,2\n"
     ]
    }
   ],
   "source": [
    "import numpy as np\n",
    "arr_zeros = np.zeros(10,dtype=int)\n",
    "arr_zeros[5] = 1\n",
    "print(arr_zeros, \"là array đã cập nhật phần tử vị trí thứ 5 từ arr_zeros\")\n",
    "\n",
    "arr_h = np.arange(10,25)\n",
    "print(arr_h[::-1], \"là array đảo ngược của arr_h\")\n",
    "\n",
    "arr_k = np.array([1,2,0,8,2,0,1,3,0,5,0])\n",
    "arr_l = arr_k[(arr_k !=0)]\n",
    "print(arr_l, \"là array với các phần tử của arr_k khác 0\")\n",
    "\n",
    "arr_l = np.concatenate((arr_l[:7], [10], [20], arr_l[8:]))\n",
    "print(arr_l, \"là array_l với phần tử mới được thêm vào cuối array\")\n",
    "\n",
    "arr_l[5] = 100\n",
    "print(arr_l, \"là array_l với phần tử vị trí 5 có giá trị 100\")\n",
    "\n",
    "arr_l = np.delete(arr_l, [0,3])\n",
    "print(arr_l, \"là array_l đã xóa các phần tử vị trí 0,1,2\")"
   ]
  }
 ],
 "metadata": {
  "kernelspec": {
   "display_name": "Python 3",
   "language": "python",
   "name": "python3"
  },
  "language_info": {
   "codemirror_mode": {
    "name": "ipython",
    "version": 3
   },
   "file_extension": ".py",
   "mimetype": "text/x-python",
   "name": "python",
   "nbconvert_exporter": "python",
   "pygments_lexer": "ipython3",
   "version": "3.12.0"
  }
 },
 "nbformat": 4,
 "nbformat_minor": 2
}
