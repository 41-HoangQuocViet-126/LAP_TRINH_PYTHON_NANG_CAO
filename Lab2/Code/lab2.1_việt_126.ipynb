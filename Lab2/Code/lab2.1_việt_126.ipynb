{
 "cells": [
  {
   "cell_type": "markdown",
   "metadata": {},
   "source": [
    "1. Tạo Dữ Liệu Mô Phỏng Nhiệt Độ:\n"
   ]
  },
  {
   "cell_type": "code",
   "execution_count": 15,
   "metadata": {},
   "outputs": [
    {
     "data": {
      "text/plain": [
       "array([10.74, 20.32, 29.7 , 26.75, 24.36, 21.16, 25.18, 23.42, 21.13,\n",
       "       13.45, 22.68, 15.06, 22.45, 21.16, 18.78, 18.58, 28.9 , 15.82,\n",
       "       13.73, 13.49, 15.85, 13.12, 16.3 , 19.24, 26.57, 22.87, 29.57,\n",
       "       22.89, 20.39, 12.52])"
      ]
     },
     "execution_count": 15,
     "metadata": {},
     "output_type": "execute_result"
    }
   ],
   "source": [
    "import numpy as np\n",
    "nhiet_do = np.around(np.random.uniform(10,30,30),2)\n",
    "nhiet_do\n",
    "\n",
    "\n"
   ]
  },
  {
   "cell_type": "code",
   "execution_count": 16,
   "metadata": {},
   "outputs": [
    {
     "data": {
      "text/plain": [
       "np.float64(20.206)"
      ]
     },
     "execution_count": 16,
     "metadata": {},
     "output_type": "execute_result"
    }
   ],
   "source": [
    "nhiet_do_tb = np.mean(nhiet_do)\n",
    "nhiet_do_tb"
   ]
  },
  {
   "cell_type": "code",
   "execution_count": 17,
   "metadata": {},
   "outputs": [
    {
     "name": "stdout",
     "output_type": "stream",
     "text": [
      "nhiệt độ cao nhất là: 29.7\n",
      "nhiệt độ thấp nhất là: 10.74\n",
      "ngày có nhiệt độ cao nhất là : 3\n",
      "ngày có nhiệt ddộ thấp nhất là : 1\n"
     ]
    }
   ],
   "source": [
    "temp_max = np.max(nhiet_do)\n",
    "print(\"nhiệt độ cao nhất là:\", temp_max)\n",
    "temp_min = np.min(nhiet_do)\n",
    "print(\"nhiệt độ thấp nhất là:\", temp_min)\n",
    "day_temp_max = np.argmax(nhiet_do)+1\n",
    "print(\"ngày có nhiệt độ cao nhất là :\", day_temp_max)\n",
    "day_temp_min = np.argmin(nhiet_do)+1\n",
    "print(\"ngày có nhiệt ddộ thấp nhất là :\", day_temp_min)"
   ]
  },
  {
   "cell_type": "code",
   "execution_count": 18,
   "metadata": {},
   "outputs": [
    {
     "name": "stdout",
     "output_type": "stream",
     "text": [
      "chênh lệch nhiệt độ cao nhất là: 0.0\n",
      "ngày chênh lệch cao nhất: 1\n"
     ]
    }
   ],
   "source": [
    "ngay_truoc = nhiet_do[:-1]\n",
    "ngay_sau = nhiet_do[:-1]\n",
    "chenh_lech = ngay_sau - ngay_truoc\n",
    "dff_max = np.argmax(np.abs(chenh_lech)) +1\n",
    "max_chenh_lech = chenh_lech[dff_max-1]\n",
    "\n",
    "print(\"chênh lệch nhiệt độ cao nhất là:\",max_chenh_lech)\n",
    "print(\"ngày chênh lệch cao nhất:\",dff_max)"
   ]
  },
  {
   "cell_type": "code",
   "execution_count": 19,
   "metadata": {},
   "outputs": [
    {
     "data": {
      "text/plain": [
       "array([ 2,  3,  4,  5,  6,  7,  8,  9, 11, 13, 14, 17, 25, 26, 27, 28, 29])"
      ]
     },
     "execution_count": 19,
     "metadata": {},
     "output_type": "execute_result"
    }
   ],
   "source": [
    "condition = nhiet_do > 20\n",
    "indices = np.where(condition)\n",
    "day_indices = indices[0]\n",
    "days_above_20_separated = day_indices + 1\n",
    "days_above_20_separated\n"
   ]
  }
 ],
 "metadata": {
  "kernelspec": {
   "display_name": "Python 3",
   "language": "python",
   "name": "python3"
  },
  "language_info": {
   "codemirror_mode": {
    "name": "ipython",
    "version": 3
   },
   "file_extension": ".py",
   "mimetype": "text/x-python",
   "name": "python",
   "nbconvert_exporter": "python",
   "pygments_lexer": "ipython3",
   "version": "3.12.0"
  }
 },
 "nbformat": 4,
 "nbformat_minor": 2
}
