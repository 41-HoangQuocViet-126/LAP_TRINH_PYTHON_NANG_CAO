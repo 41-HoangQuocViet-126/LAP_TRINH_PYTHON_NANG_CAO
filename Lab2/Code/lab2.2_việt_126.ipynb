{
 "cells": [
  {
   "cell_type": "code",
   "execution_count": 3,
   "metadata": {},
   "outputs": [
    {
     "data": {
      "text/plain": [
       "[[3.04, 3.39, 6.7],\n",
       " [5.8, 6.41, 6.62],\n",
       " [2.59, 3.57, 9.16],\n",
       " [3.81, 8.78, 9.24],\n",
       " [8.91, 9.64, 6.39]]"
      ]
     },
     "execution_count": 3,
     "metadata": {},
     "output_type": "execute_result"
    }
   ],
   "source": [
    "import csv\n",
    "\n",
    "file_path = 'D:\\\\17A3DHKL\\\\Lab2\\\\Data\\\\diem_hoc_phan.csv'\n",
    "Data = []\n",
    "\n",
    "with open(file_path,newline='',encoding='utf-8') as csvfile:\n",
    "    reader = csv.reader(csvfile)\n",
    "    next(reader)\n",
    "    for row in reader:\n",
    "        Data.append([float(score) for score in row[2:]])\n",
    "Data[:5]"
   ]
  },
  {
   "cell_type": "code",
   "execution_count": 4,
   "metadata": {},
   "outputs": [
    {
     "data": {
      "text/plain": [
       "array([[3.04, 3.39, 6.7 ],\n",
       "       [5.8 , 6.41, 6.62],\n",
       "       [2.59, 3.57, 9.16],\n",
       "       [3.81, 8.78, 9.24],\n",
       "       [8.91, 9.64, 6.39]])"
      ]
     },
     "execution_count": 4,
     "metadata": {},
     "output_type": "execute_result"
    }
   ],
   "source": [
    "import numpy as np \n",
    "diem_np_array = np.array(Data)\n",
    "diem_np_array[:5]"
   ]
  },
  {
   "cell_type": "code",
   "execution_count": 5,
   "metadata": {},
   "outputs": [
    {
     "data": {
      "text/plain": [
       "array([['F', 'F', 'C+'],\n",
       "       ['C', 'C', 'C+'],\n",
       "       ['F', 'F', 'A'],\n",
       "       ['F', 'A', 'A'],\n",
       "       ['A', 'A', 'C']], dtype='<U2')"
      ]
     },
     "execution_count": 5,
     "metadata": {},
     "output_type": "execute_result"
    }
   ],
   "source": [
    "def chuyen_diem(score):\n",
    "    if 8.5 <= score <= 10:\n",
    "        return 'A'\n",
    "    elif 8.0 <= score <= 8.5:\n",
    "        return 'B+'\n",
    "    elif 7.0 <= score <= 8.0:\n",
    "        return 'B'\n",
    "    elif 6.5 <= score <= 7.0:\n",
    "        return 'C+'\n",
    "    elif 5.5 <= score <= 6.5:\n",
    "        return 'C'\n",
    "    elif 5.0 <= score <= 5.5:\n",
    "        return 'D+'\n",
    "    elif 4.0 <= score <= 5.0:\n",
    "        return 'D'\n",
    "    else:\n",
    "        return 'F'\n",
    "diem_converted = np.vectorize(chuyen_diem)(diem_np_array)\n",
    "diem_converted[:5]\n"
   ]
  },
  {
   "cell_type": "code",
   "execution_count": 6,
   "metadata": {},
   "outputs": [],
   "source": [
    "hp1_score = diem_np_array[:,0]\n",
    "hp2_score = diem_np_array[:,1]\n",
    "hp3_score = diem_np_array[:,2]"
   ]
  },
  {
   "cell_type": "code",
   "execution_count": 8,
   "metadata": {},
   "outputs": [],
   "source": [
    "hp1_stats = (np.sum(hp1_score),np.mean(hp1_score),np.std(hp1_score))\n",
    "hp2_stats = (np.sum(hp2_score),np.mean(hp2_score),np.std(hp2_score))\n",
    "hp3_stats = (np.sum(hp3_score),np.mean(hp3_score),np.std(hp3_score))"
   ]
  },
  {
   "cell_type": "code",
   "execution_count": 9,
   "metadata": {},
   "outputs": [
    {
     "name": "stdout",
     "output_type": "stream",
     "text": [
      "Học phần 1 :\n",
      "Tổng điểm : 154.93\n",
      "Điểm trung bình : 5.16\n",
      "Độ lệch chuẩn : 2.41\n",
      "\n",
      "Học phần 2 :\n",
      "Tổng điểm : 170.27\n",
      "Điểm trung bình : 5.68\n",
      "Độ lệch chuẩn : 2.25\n",
      "\n",
      "Học phần 3 :\n",
      "Tổng điểm : 188.78\n",
      "Điểm trung bình : 6.29\n",
      "Độ lệch chuẩn : 1.81\n"
     ]
    }
   ],
   "source": [
    "print(\"Học phần 1 :\")\n",
    "print(f\"Tổng điểm : {hp1_stats[0]:.2f}\")\n",
    "print(f\"Điểm trung bình : {hp1_stats[1]:.2f}\")\n",
    "print(f\"Độ lệch chuẩn : {hp1_stats[2]:.2f}\")\n",
    "\n",
    "print(\"\\nHọc phần 2 :\")\n",
    "print(f\"Tổng điểm : {hp2_stats[0]:.2f}\")\n",
    "print(f\"Điểm trung bình : {hp2_stats[1]:.2f}\")\n",
    "print(f\"Độ lệch chuẩn : {hp2_stats[2]:.2f}\")\n",
    "\n",
    "print(\"\\nHọc phần 3 :\")\n",
    "print(f\"Tổng điểm : {hp3_stats[0]:.2f}\")\n",
    "print(f\"Điểm trung bình : {hp3_stats[1]:.2f}\")\n",
    "print(f\"Độ lệch chuẩn : {hp3_stats[2]:.2f}\")\n",
    "\n",
    "\n"
   ]
  }
 ],
 "metadata": {
  "kernelspec": {
   "display_name": "Python 3",
   "language": "python",
   "name": "python3"
  },
  "language_info": {
   "codemirror_mode": {
    "name": "ipython",
    "version": 3
   },
   "file_extension": ".py",
   "mimetype": "text/x-python",
   "name": "python",
   "nbconvert_exporter": "python",
   "pygments_lexer": "ipython3",
   "version": "3.12.0"
  }
 },
 "nbformat": 4,
 "nbformat_minor": 2
}
